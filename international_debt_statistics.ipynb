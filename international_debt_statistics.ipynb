{
  "cells": [
    {
      "metadata": {
        "dc": {
          "key": "4"
        },
        "deletable": false,
        "editable": false,
        "run_control": {
          "frozen": true
        },
        "tags": [
          "context"
        ],
        "id": "XwNShyAy1rzp"
      },
      "cell_type": "markdown",
      "source": [
        "## **Project: Analyzing The World Bank's international debt statistics**\n",
        "\n",
        "<p>In this notebook, we are going to analyze international debt data collected by The World Bank. The dataset contains information about the amount of debt (in USD) owed by developing countries across several categories. We are going to find the answers to questions like: </p>\n",
        "<ul>\n",
        "<li>What is the total amount of debt that is owed by the countries listed in the dataset?</li>\n",
        "<li>Which country owns the maximum amount of debt and what does that amount look like?</li>\n",
        "<li>What is the average amount of debt owed by countries across different debt indicators?</li>\n",
        "</ul>\n",
        "<p><img src=\"https://media-cldnry.s-nbcnews.com/image/upload/t_fit-1240w,f_auto,q_auto:best/newscms/2019_06/2746941/190208-stock-money-fanned-out-ew-317p.jpg\" alt></p>\n",
        "\n",
        "## **1.View of The World Bank's international debt data**\n",
        "<p>The first line of code connects us to the <code>international_debt</code> database where the table <code>international_debt</code> is residing.\n",
        "\n",
        "First, let's take a look at our data. Let's <code>SELECT</code> <em>all</em> of the columns from the <code>international_debt</code> table and limit the output to the first ten rows.</p>"
      ]
    },
    {
      "metadata": {
        "dc": {
          "key": "4"
        },
        "tags": [
          "sample_code"
        ],
        "trusted": true,
        "id": "GydEQHph1rzt",
        "outputId": "ae1407de-6362-4002-de42-7f6438badc97"
      },
      "cell_type": "code",
      "source": [
        "%%sql\n",
        "postgresql:///international_debt\n",
        "\n",
        "select *\n",
        "from international_debt\n",
        "limit 10"
      ],
      "execution_count": null,
      "outputs": [
        {
          "output_type": "stream",
          "text": "10 rows affected.\n",
          "name": "stdout"
        },
        {
          "output_type": "execute_result",
          "execution_count": 55,
          "data": {
            "text/plain": "[('Afghanistan', 'AFG', 'Disbursements on external debt, long-term (DIS, current US$)', 'DT.DIS.DLXF.CD', Decimal('72894453.700000003')),\n ('Afghanistan', 'AFG', 'Interest payments on external debt, long-term (INT, current US$)', 'DT.INT.DLXF.CD', Decimal('53239440.100000001')),\n ('Afghanistan', 'AFG', 'PPG, bilateral (AMT, current US$)', 'DT.AMT.BLAT.CD', Decimal('61739336.899999999')),\n ('Afghanistan', 'AFG', 'PPG, bilateral (DIS, current US$)', 'DT.DIS.BLAT.CD', Decimal('49114729.399999999')),\n ('Afghanistan', 'AFG', 'PPG, bilateral (INT, current US$)', 'DT.INT.BLAT.CD', Decimal('39903620.100000001')),\n ('Afghanistan', 'AFG', 'PPG, multilateral (AMT, current US$)', 'DT.AMT.MLAT.CD', Decimal('39107845')),\n ('Afghanistan', 'AFG', 'PPG, multilateral (DIS, current US$)', 'DT.DIS.MLAT.CD', Decimal('23779724.300000001')),\n ('Afghanistan', 'AFG', 'PPG, multilateral (INT, current US$)', 'DT.INT.MLAT.CD', Decimal('13335820')),\n ('Afghanistan', 'AFG', 'PPG, official creditors (AMT, current US$)', 'DT.AMT.OFFT.CD', Decimal('100847181.900000006')),\n ('Afghanistan', 'AFG', 'PPG, official creditors (DIS, current US$)', 'DT.DIS.OFFT.CD', Decimal('72894453.700000003'))]",
            "text/html": "<table>\n    <tr>\n        <th>country_name</th>\n        <th>country_code</th>\n        <th>indicator_name</th>\n        <th>indicator_code</th>\n        <th>debt</th>\n    </tr>\n    <tr>\n        <td>Afghanistan</td>\n        <td>AFG</td>\n        <td>Disbursements on external debt, long-term (DIS, current US$)</td>\n        <td>DT.DIS.DLXF.CD</td>\n        <td>72894453.700000003</td>\n    </tr>\n    <tr>\n        <td>Afghanistan</td>\n        <td>AFG</td>\n        <td>Interest payments on external debt, long-term (INT, current US$)</td>\n        <td>DT.INT.DLXF.CD</td>\n        <td>53239440.100000001</td>\n    </tr>\n    <tr>\n        <td>Afghanistan</td>\n        <td>AFG</td>\n        <td>PPG, bilateral (AMT, current US$)</td>\n        <td>DT.AMT.BLAT.CD</td>\n        <td>61739336.899999999</td>\n    </tr>\n    <tr>\n        <td>Afghanistan</td>\n        <td>AFG</td>\n        <td>PPG, bilateral (DIS, current US$)</td>\n        <td>DT.DIS.BLAT.CD</td>\n        <td>49114729.399999999</td>\n    </tr>\n    <tr>\n        <td>Afghanistan</td>\n        <td>AFG</td>\n        <td>PPG, bilateral (INT, current US$)</td>\n        <td>DT.INT.BLAT.CD</td>\n        <td>39903620.100000001</td>\n    </tr>\n    <tr>\n        <td>Afghanistan</td>\n        <td>AFG</td>\n        <td>PPG, multilateral (AMT, current US$)</td>\n        <td>DT.AMT.MLAT.CD</td>\n        <td>39107845</td>\n    </tr>\n    <tr>\n        <td>Afghanistan</td>\n        <td>AFG</td>\n        <td>PPG, multilateral (DIS, current US$)</td>\n        <td>DT.DIS.MLAT.CD</td>\n        <td>23779724.300000001</td>\n    </tr>\n    <tr>\n        <td>Afghanistan</td>\n        <td>AFG</td>\n        <td>PPG, multilateral (INT, current US$)</td>\n        <td>DT.INT.MLAT.CD</td>\n        <td>13335820</td>\n    </tr>\n    <tr>\n        <td>Afghanistan</td>\n        <td>AFG</td>\n        <td>PPG, official creditors (AMT, current US$)</td>\n        <td>DT.AMT.OFFT.CD</td>\n        <td>100847181.900000006</td>\n    </tr>\n    <tr>\n        <td>Afghanistan</td>\n        <td>AFG</td>\n        <td>PPG, official creditors (DIS, current US$)</td>\n        <td>DT.DIS.OFFT.CD</td>\n        <td>72894453.700000003</td>\n    </tr>\n</table>"
          },
          "metadata": {}
        }
      ]
    },
    {
      "metadata": {
        "dc": {
          "key": "12"
        },
        "deletable": false,
        "editable": false,
        "run_control": {
          "frozen": true
        },
        "tags": [
          "context"
        ],
        "id": "TRT1Jz471rzw"
      },
      "cell_type": "markdown",
      "source": [
        "## **2. Finding the number of distinct countries**\n",
        "<p>From the first ten rows, we see that there are repetitions in the country names because a country is most likely to have debt in more than one debt indicator. </p>\n",
        "<p>Without a count of unique countries, we will not be able to perform our statistical analyses holistically. In this section, we are going to extract the number of unique countries present in the table. </p>"
      ]
    },
    {
      "metadata": {
        "dc": {
          "key": "12"
        },
        "tags": [
          "sample_code"
        ],
        "trusted": true,
        "id": "Qqw8_tvw1rzw",
        "outputId": "1fd79fbb-1081-4ac7-956b-868e0daa0b59"
      },
      "cell_type": "code",
      "source": [
        "%%sql\n",
        "SELECT count(distinct(country_name)) as total_distinct_countries\n",
        "from international_debt"
      ],
      "execution_count": null,
      "outputs": [
        {
          "output_type": "stream",
          "text": " * postgresql:///international_debt\n1 rows affected.\n",
          "name": "stdout"
        },
        {
          "output_type": "execute_result",
          "execution_count": 57,
          "data": {
            "text/plain": "[(124,)]",
            "text/html": "<table>\n    <tr>\n        <th>total_distinct_countries</th>\n    </tr>\n    <tr>\n        <td>124</td>\n    </tr>\n</table>"
          },
          "metadata": {}
        }
      ]
    },
    {
      "metadata": {
        "dc": {
          "key": "20"
        },
        "deletable": false,
        "editable": false,
        "run_control": {
          "frozen": true
        },
        "tags": [
          "context"
        ],
        "id": "quPUwel81rzx"
      },
      "cell_type": "markdown",
      "source": [
        "## **3. Finding out the distinct debt indicators**\n",
        "<p>We can see there are a total of 124 countries present on the table.</p>\n",
        "\n",
        "Knowing about the various debt indicators will help us to understand the areas in which a country can possibly be indebted to. </p>\n",
        "\n",
        "to achieve that I'm using the <code>indicator_code</code> column which symbolizes the category of these debts."
      ]
    },
    {
      "metadata": {
        "dc": {
          "key": "20"
        },
        "tags": [
          "sample_code"
        ],
        "trusted": true,
        "id": "QYz0-Sxr1rzx",
        "outputId": "d70b6ab5-ddd0-4315-aa62-aa2c230e7430"
      },
      "cell_type": "code",
      "source": [
        "%%sql\n",
        "\n",
        "SELECT\n",
        "    DISTINCT indicator_code as distinct_debt_indicators\n",
        "FROM\n",
        "    international_debt\n",
        "Order by distinct_debt_indicators"
      ],
      "execution_count": null,
      "outputs": [
        {
          "output_type": "stream",
          "text": " * postgresql:///international_debt\n25 rows affected.\n",
          "name": "stdout"
        },
        {
          "output_type": "execute_result",
          "execution_count": 59,
          "data": {
            "text/plain": "[('DT.AMT.BLAT.CD',),\n ('DT.AMT.DLXF.CD',),\n ('DT.AMT.DPNG.CD',),\n ('DT.AMT.MLAT.CD',),\n ('DT.AMT.OFFT.CD',),\n ('DT.AMT.PBND.CD',),\n ('DT.AMT.PCBK.CD',),\n ('DT.AMT.PROP.CD',),\n ('DT.AMT.PRVT.CD',),\n ('DT.DIS.BLAT.CD',),\n ('DT.DIS.DLXF.CD',),\n ('DT.DIS.MLAT.CD',),\n ('DT.DIS.OFFT.CD',),\n ('DT.DIS.PCBK.CD',),\n ('DT.DIS.PROP.CD',),\n ('DT.DIS.PRVT.CD',),\n ('DT.INT.BLAT.CD',),\n ('DT.INT.DLXF.CD',),\n ('DT.INT.DPNG.CD',),\n ('DT.INT.MLAT.CD',),\n ('DT.INT.OFFT.CD',),\n ('DT.INT.PBND.CD',),\n ('DT.INT.PCBK.CD',),\n ('DT.INT.PROP.CD',),\n ('DT.INT.PRVT.CD',)]",
            "text/html": "<table>\n    <tr>\n        <th>distinct_debt_indicators</th>\n    </tr>\n    <tr>\n        <td>DT.AMT.BLAT.CD</td>\n    </tr>\n    <tr>\n        <td>DT.AMT.DLXF.CD</td>\n    </tr>\n    <tr>\n        <td>DT.AMT.DPNG.CD</td>\n    </tr>\n    <tr>\n        <td>DT.AMT.MLAT.CD</td>\n    </tr>\n    <tr>\n        <td>DT.AMT.OFFT.CD</td>\n    </tr>\n    <tr>\n        <td>DT.AMT.PBND.CD</td>\n    </tr>\n    <tr>\n        <td>DT.AMT.PCBK.CD</td>\n    </tr>\n    <tr>\n        <td>DT.AMT.PROP.CD</td>\n    </tr>\n    <tr>\n        <td>DT.AMT.PRVT.CD</td>\n    </tr>\n    <tr>\n        <td>DT.DIS.BLAT.CD</td>\n    </tr>\n    <tr>\n        <td>DT.DIS.DLXF.CD</td>\n    </tr>\n    <tr>\n        <td>DT.DIS.MLAT.CD</td>\n    </tr>\n    <tr>\n        <td>DT.DIS.OFFT.CD</td>\n    </tr>\n    <tr>\n        <td>DT.DIS.PCBK.CD</td>\n    </tr>\n    <tr>\n        <td>DT.DIS.PROP.CD</td>\n    </tr>\n    <tr>\n        <td>DT.DIS.PRVT.CD</td>\n    </tr>\n    <tr>\n        <td>DT.INT.BLAT.CD</td>\n    </tr>\n    <tr>\n        <td>DT.INT.DLXF.CD</td>\n    </tr>\n    <tr>\n        <td>DT.INT.DPNG.CD</td>\n    </tr>\n    <tr>\n        <td>DT.INT.MLAT.CD</td>\n    </tr>\n    <tr>\n        <td>DT.INT.OFFT.CD</td>\n    </tr>\n    <tr>\n        <td>DT.INT.PBND.CD</td>\n    </tr>\n    <tr>\n        <td>DT.INT.PCBK.CD</td>\n    </tr>\n    <tr>\n        <td>DT.INT.PROP.CD</td>\n    </tr>\n    <tr>\n        <td>DT.INT.PRVT.CD</td>\n    </tr>\n</table>"
          },
          "metadata": {}
        }
      ]
    },
    {
      "metadata": {
        "dc": {
          "key": "28"
        },
        "deletable": false,
        "editable": false,
        "run_control": {
          "frozen": true
        },
        "tags": [
          "context"
        ],
        "id": "ugc9CnSM1rzx"
      },
      "cell_type": "markdown",
      "source": [
        "## 4. **Totaling the amount of debt owed by the countries**\n",
        "\n",
        "<p>Let's switch gears from the debt indicators now and find out the total amount of debt (in USD) that is owed by all the different countries. This will give us a sense of how the overall economy of the entire world is holding up.</p>\n",
        "\n",
        "**Note**: we divide the total debt by 1000000 and round the result to 2 decimal places so that the output is fathomable."
      ]
    },
    {
      "metadata": {
        "dc": {
          "key": "28"
        },
        "tags": [
          "sample_code"
        ],
        "trusted": true,
        "id": "INzuKVQ71rzy",
        "outputId": "24a9d5f7-d4e9-4fd7-e743-4f9ed9a5bd86"
      },
      "cell_type": "code",
      "source": [
        "%%sql\n",
        "\n",
        "SELECT\n",
        "    round(sum(debt)/1000000,2) as total_debt\n",
        "FROM\n",
        "    international_debt"
      ],
      "execution_count": null,
      "outputs": [
        {
          "output_type": "stream",
          "text": " * postgresql:///international_debt\n1 rows affected.\n",
          "name": "stdout"
        },
        {
          "output_type": "execute_result",
          "execution_count": 61,
          "data": {
            "text/plain": "[(Decimal('3079734.49'),)]",
            "text/html": "<table>\n    <tr>\n        <th>total_debt</th>\n    </tr>\n    <tr>\n        <td>3079734.49</td>\n    </tr>\n</table>"
          },
          "metadata": {}
        }
      ]
    },
    {
      "metadata": {
        "dc": {
          "key": "36"
        },
        "deletable": false,
        "editable": false,
        "run_control": {
          "frozen": true
        },
        "tags": [
          "context"
        ],
        "id": "z4-ax8UD1rzy"
      },
      "cell_type": "markdown",
      "source": [
        "## **5. Country with the highest debt**\n",
        "<p>\"Human beings cannot comprehend very large or very small numbers. It would be useful for us to acknowledge that fact.\" - <a href=\"https://en.wikipedia.org/wiki/Daniel_Kahneman\">Daniel Kahneman</a>. That is more than <em>3 million <strong>million</strong></em> USD, an amount which is really hard for us to fathom. </p>\n",
        "<p>Now that we have the exact total of the amounts of debt owed by several countries, let's now find out the country that owns the highest amount of debt along with that amount.\n",
        "\n",
        "<strong>Note</strong> : This debt is the sum of different debts owed by a country across several categories."
      ]
    },
    {
      "metadata": {
        "dc": {
          "key": "36"
        },
        "tags": [
          "sample_code"
        ],
        "trusted": true,
        "id": "VzJW_o331rzy",
        "outputId": "08f32329-3a4a-4a87-f759-9437392652af"
      },
      "cell_type": "code",
      "source": [
        "%%sql\n",
        "\n",
        "SELECT country_name, ROUND5debt)/ 1000000as total_debt\n",
        "FROM international_debt\n",
        "group by country_name\n",
        "Order by total_debt desc\n",
        "limit 1"
      ],
      "execution_count": null,
      "outputs": [
        {
          "output_type": "stream",
          "text": " * postgresql:///international_debt\n1 rows affected.\n",
          "name": "stdout"
        },
        {
          "output_type": "execute_result",
          "execution_count": 63,
          "data": {
            "text/plain": "[('China', Decimal('285793494734.200001568'))]",
            "text/html": "<table>\n    <tr>\n        <th>country_name</th>\n        <th>total_debt</th>\n    </tr>\n    <tr>\n        <td>China</td>\n        <td>285793494734.200001568</td>\n    </tr>\n</table>"
          },
          "metadata": {}
        }
      ]
    },
    {
      "metadata": {
        "dc": {
          "key": "44"
        },
        "deletable": false,
        "editable": false,
        "run_control": {
          "frozen": true
        },
        "tags": [
          "context"
        ],
        "id": "ZrefojA-1rzz"
      },
      "cell_type": "markdown",
      "source": [
        "## **6. Average amount of debt across indicators**\n",
        "<p>So, it was <em>China</em>. We now have a brief overview of the dataset and a few of its summary statistics.\n",
        "\n",
        "We already have an idea of the different debt indicators in which the countries owe their debts. Now, let's dig even further to get a better sense of the distribution of the amount of debt across different indicators through exploring **how much debt on an average countries owe across these indicators**."
      ]
    },
    {
      "metadata": {
        "dc": {
          "key": "44"
        },
        "tags": [
          "sample_code"
        ],
        "scrolled": true,
        "trusted": true,
        "id": "V1zQbgOC1rzz",
        "outputId": "93612052-5fe2-417c-ab75-4b0c27c0faf9"
      },
      "cell_type": "code",
      "source": [
        "%%sql\n",
        "SELECT\n",
        "    indicator_code as debt_indicator,\n",
        "    indicator_name,\n",
        "    round(avg(debt)/1000000,2) as average_debt\n",
        "FROM international_debt\n",
        "group by debt_indicator, indicator_name\n",
        "ORDER BY average_debt desc\n",
        "limit 10"
      ],
      "execution_count": null,
      "outputs": [
        {
          "output_type": "stream",
          "text": " * postgresql:///international_debt\n10 rows affected.\n",
          "name": "stdout"
        },
        {
          "output_type": "execute_result",
          "execution_count": 65,
          "data": {
            "text/plain": "[('DT.AMT.DLXF.CD', 'Principal repayments on external debt, long-term (AMT, current US$)', Decimal('5904.87')),\n ('DT.AMT.DPNG.CD', 'Principal repayments on external debt, private nonguaranteed (PNG) (AMT, current US$)', Decimal('5161.19')),\n ('DT.DIS.DLXF.CD', 'Disbursements on external debt, long-term (DIS, current US$)', Decimal('2152.04')),\n ('DT.DIS.OFFT.CD', 'PPG, official creditors (DIS, current US$)', Decimal('1958.98')),\n ('DT.AMT.PRVT.CD', 'PPG, private creditors (AMT, current US$)', Decimal('1803.69')),\n ('DT.INT.DLXF.CD', 'Interest payments on external debt, long-term (INT, current US$)', Decimal('1644.02')),\n ('DT.DIS.BLAT.CD', 'PPG, bilateral (DIS, current US$)', Decimal('1223.14')),\n ('DT.INT.DPNG.CD', 'Interest payments on external debt, private nonguaranteed (PNG) (INT, current US$)', Decimal('1220.41')),\n ('DT.AMT.OFFT.CD', 'PPG, official creditors (AMT, current US$)', Decimal('1191.19')),\n ('DT.AMT.PBND.CD', 'PPG, bonds (AMT, current US$)', Decimal('1082.62'))]",
            "text/html": "<table>\n    <tr>\n        <th>debt_indicator</th>\n        <th>indicator_name</th>\n        <th>average_debt</th>\n    </tr>\n    <tr>\n        <td>DT.AMT.DLXF.CD</td>\n        <td>Principal repayments on external debt, long-term (AMT, current US$)</td>\n        <td>5904.87</td>\n    </tr>\n    <tr>\n        <td>DT.AMT.DPNG.CD</td>\n        <td>Principal repayments on external debt, private nonguaranteed (PNG) (AMT, current US$)</td>\n        <td>5161.19</td>\n    </tr>\n    <tr>\n        <td>DT.DIS.DLXF.CD</td>\n        <td>Disbursements on external debt, long-term (DIS, current US$)</td>\n        <td>2152.04</td>\n    </tr>\n    <tr>\n        <td>DT.DIS.OFFT.CD</td>\n        <td>PPG, official creditors (DIS, current US$)</td>\n        <td>1958.98</td>\n    </tr>\n    <tr>\n        <td>DT.AMT.PRVT.CD</td>\n        <td>PPG, private creditors (AMT, current US$)</td>\n        <td>1803.69</td>\n    </tr>\n    <tr>\n        <td>DT.INT.DLXF.CD</td>\n        <td>Interest payments on external debt, long-term (INT, current US$)</td>\n        <td>1644.02</td>\n    </tr>\n    <tr>\n        <td>DT.DIS.BLAT.CD</td>\n        <td>PPG, bilateral (DIS, current US$)</td>\n        <td>1223.14</td>\n    </tr>\n    <tr>\n        <td>DT.INT.DPNG.CD</td>\n        <td>Interest payments on external debt, private nonguaranteed (PNG) (INT, current US$)</td>\n        <td>1220.41</td>\n    </tr>\n    <tr>\n        <td>DT.AMT.OFFT.CD</td>\n        <td>PPG, official creditors (AMT, current US$)</td>\n        <td>1191.19</td>\n    </tr>\n    <tr>\n        <td>DT.AMT.PBND.CD</td>\n        <td>PPG, bonds (AMT, current US$)</td>\n        <td>1082.62</td>\n    </tr>\n</table>"
          },
          "metadata": {}
        }
      ]
    },
    {
      "metadata": {
        "dc": {
          "key": "52"
        },
        "deletable": false,
        "editable": false,
        "run_control": {
          "frozen": true
        },
        "tags": [
          "context"
        ],
        "id": "IZ0d1r7-1rz0"
      },
      "cell_type": "markdown",
      "source": [
        "## **7. The highest amount of principal repayments**\n",
        "<p>We can see that the indicator <code>DT.AMT.DLXF.CD</code> tops the chart of average debt. This category includes repayment of long term debts. Countries take on long-term debt to acquire immediate capital. More information about this category can be found <a href=\"https://datacatalog.worldbank.org/principal-repayments-external-debt-long-term-amt-current-us-0\">here</a>. </p>\n",
        "<p>An interesting observation in the above finding is that there is a huge difference in the amounts of the indicators after the second one. This indicates that the first two indicators might be the most severe categories in which the countries owe their debts.</p>\n",
        "<p>We can investigate this a bit more so as to find out which country owes the highest amount of debt in the category of long term debts (<code>DT.AMT.DLXF.CD</code>). Since not all the countries suffer from the same kind of economic disturbances, this finding will allow us to understand that particular country's economic condition a bit more specifically. </p>"
      ]
    },
    {
      "metadata": {
        "dc": {
          "key": "52"
        },
        "tags": [
          "sample_code"
        ],
        "trusted": true,
        "id": "Okwr91qG1rz0",
        "outputId": "c71f3985-27a0-419a-95f2-b9c0bd868eb0"
      },
      "cell_type": "code",
      "source": [
        "%%sql\n",
        "SELECT\n",
        "    country_name,\n",
        "    indicator_name\n",
        "from international_debt\n",
        "where debt = (select max(debt)\n",
        "                         from international_debt\n",
        "                         where indicator_code = 'DT.AMT.DLXF.CD')"
      ],
      "execution_count": null,
      "outputs": [
        {
          "output_type": "stream",
          "text": " * postgresql:///international_debt\n1 rows affected.\n",
          "name": "stdout"
        },
        {
          "output_type": "execute_result",
          "execution_count": 67,
          "data": {
            "text/plain": "[('China', 'Principal repayments on external debt, long-term (AMT, current US$)')]",
            "text/html": "<table>\n    <tr>\n        <th>country_name</th>\n        <th>indicator_name</th>\n    </tr>\n    <tr>\n        <td>China</td>\n        <td>Principal repayments on external debt, long-term (AMT, current US$)</td>\n    </tr>\n</table>"
          },
          "metadata": {}
        }
      ]
    },
    {
      "metadata": {
        "dc": {
          "key": "60"
        },
        "deletable": false,
        "editable": false,
        "run_control": {
          "frozen": true
        },
        "tags": [
          "context"
        ],
        "id": "7Z80HWaY1rz1"
      },
      "cell_type": "markdown",
      "source": [
        "## **8. The most common debt indicator**\n",
        "<p>China has the highest amount of debt in the long-term debt (<code>DT.AMT.DLXF.CD</code>) category. This is verified by <a href=\"https://data.worldbank.org/indicator/DT.AMT.DLXF.CD?end=2018&most_recent_value_desc=true\">The World Bank</a>. It is often a good idea to verify our analyses like this since it validates that our investigations are correct. </p>\n",
        "<p>We saw that long-term debt is the topmost category when it comes to the average amount of debt. But is it the most common indicator in which the countries owe their debt? Let's find that out. </p>"
      ]
    },
    {
      "metadata": {
        "dc": {
          "key": "60"
        },
        "tags": [
          "sample_code"
        ],
        "trusted": true,
        "id": "PW40BM3m1rz1",
        "outputId": "02c4b288-0f6b-40e7-afca-6aee3b104bb4"
      },
      "cell_type": "code",
      "source": [
        "%%sql\n",
        "SELECT\n",
        "    indicator_code,\n",
        "    count(indicator_code) as indicator_count\n",
        "FROM international_debt\n",
        "group by indicator_code\n",
        "Order by indicator_count desc, indicator_code desc\n",
        "limit 20"
      ],
      "execution_count": null,
      "outputs": [
        {
          "output_type": "stream",
          "text": " * postgresql:///international_debt\n20 rows affected.\n",
          "name": "stdout"
        },
        {
          "output_type": "execute_result",
          "execution_count": 69,
          "data": {
            "text/plain": "[('DT.INT.OFFT.CD', 124),\n ('DT.INT.MLAT.CD', 124),\n ('DT.INT.DLXF.CD', 124),\n ('DT.AMT.OFFT.CD', 124),\n ('DT.AMT.MLAT.CD', 124),\n ('DT.AMT.DLXF.CD', 124),\n ('DT.DIS.DLXF.CD', 123),\n ('DT.INT.BLAT.CD', 122),\n ('DT.DIS.OFFT.CD', 122),\n ('DT.AMT.BLAT.CD', 122),\n ('DT.DIS.MLAT.CD', 120),\n ('DT.DIS.BLAT.CD', 113),\n ('DT.INT.PRVT.CD', 98),\n ('DT.AMT.PRVT.CD', 98),\n ('DT.INT.PCBK.CD', 84),\n ('DT.AMT.PCBK.CD', 84),\n ('DT.INT.DPNG.CD', 79),\n ('DT.AMT.DPNG.CD', 79),\n ('DT.INT.PBND.CD', 69),\n ('DT.AMT.PBND.CD', 69)]",
            "text/html": "<table>\n    <tr>\n        <th>indicator_code</th>\n        <th>indicator_count</th>\n    </tr>\n    <tr>\n        <td>DT.INT.OFFT.CD</td>\n        <td>124</td>\n    </tr>\n    <tr>\n        <td>DT.INT.MLAT.CD</td>\n        <td>124</td>\n    </tr>\n    <tr>\n        <td>DT.INT.DLXF.CD</td>\n        <td>124</td>\n    </tr>\n    <tr>\n        <td>DT.AMT.OFFT.CD</td>\n        <td>124</td>\n    </tr>\n    <tr>\n        <td>DT.AMT.MLAT.CD</td>\n        <td>124</td>\n    </tr>\n    <tr>\n        <td>DT.AMT.DLXF.CD</td>\n        <td>124</td>\n    </tr>\n    <tr>\n        <td>DT.DIS.DLXF.CD</td>\n        <td>123</td>\n    </tr>\n    <tr>\n        <td>DT.INT.BLAT.CD</td>\n        <td>122</td>\n    </tr>\n    <tr>\n        <td>DT.DIS.OFFT.CD</td>\n        <td>122</td>\n    </tr>\n    <tr>\n        <td>DT.AMT.BLAT.CD</td>\n        <td>122</td>\n    </tr>\n    <tr>\n        <td>DT.DIS.MLAT.CD</td>\n        <td>120</td>\n    </tr>\n    <tr>\n        <td>DT.DIS.BLAT.CD</td>\n        <td>113</td>\n    </tr>\n    <tr>\n        <td>DT.INT.PRVT.CD</td>\n        <td>98</td>\n    </tr>\n    <tr>\n        <td>DT.AMT.PRVT.CD</td>\n        <td>98</td>\n    </tr>\n    <tr>\n        <td>DT.INT.PCBK.CD</td>\n        <td>84</td>\n    </tr>\n    <tr>\n        <td>DT.AMT.PCBK.CD</td>\n        <td>84</td>\n    </tr>\n    <tr>\n        <td>DT.INT.DPNG.CD</td>\n        <td>79</td>\n    </tr>\n    <tr>\n        <td>DT.AMT.DPNG.CD</td>\n        <td>79</td>\n    </tr>\n    <tr>\n        <td>DT.INT.PBND.CD</td>\n        <td>69</td>\n    </tr>\n    <tr>\n        <td>DT.AMT.PBND.CD</td>\n        <td>69</td>\n    </tr>\n</table>"
          },
          "metadata": {}
        }
      ]
    },
    {
      "metadata": {
        "dc": {
          "key": "68"
        },
        "deletable": false,
        "editable": false,
        "run_control": {
          "frozen": true
        },
        "tags": [
          "context"
        ],
        "id": "excx-x3B1rz1"
      },
      "cell_type": "markdown",
      "source": [
        "## **9. Other viable debt issues and conclusion**\n",
        "<p>There are a total of six debt indicators in which all the countries listed in our dataset have taken debt. The indicator <code>DT.AMT.DLXF.CD</code> is also there in the list. So, this gives us a clue that all these countries are suffering from a common economic issue. But that is not the end of the story, but just a part of the story.</p>\n",
        "<p>Let's change tracks from <code>debt_indicator</code>s now and focus on the amount of debt again. Let's find out the maximum amount of debt that each country has. With this, we will be in a position to identify the other plausible economic issues a country might be going through.</p>\n"
      ]
    },
    {
      "metadata": {
        "dc": {
          "key": "68"
        },
        "tags": [
          "sample_code"
        ],
        "trusted": true,
        "id": "E0B_TLqP1rz2",
        "outputId": "fb2c3f55-3878-4475-e849-780848c5e94f"
      },
      "cell_type": "code",
      "source": [
        "%%sql\n",
        "SELECT\n",
        "    country_name,\n",
        "    round(max(debt)/1000000,2) as maximum_debt\n",
        "from international_debt\n",
        "GROUP BY country_name\n",
        "order by maximum_debt desc\n",
        "limit 10"
      ],
      "execution_count": null,
      "outputs": [
        {
          "output_type": "stream",
          "text": " * postgresql:///international_debt\n10 rows affected.\n",
          "name": "stdout"
        },
        {
          "output_type": "execute_result",
          "execution_count": 71,
          "data": {
            "text/plain": "[('China', Decimal('96218.62')),\n ('Brazil', Decimal('90041.84')),\n ('Russian Federation', Decimal('66589.76')),\n ('Turkey', Decimal('51555.03')),\n ('South Asia', Decimal('48756.30')),\n ('Least developed countries: UN classification', Decimal('40160.77')),\n ('IDA only', Decimal('34531.19')),\n ('India', Decimal('31923.51')),\n ('Indonesia', Decimal('30916.11')),\n ('Kazakhstan', Decimal('27482.09'))]",
            "text/html": "<table>\n    <tr>\n        <th>country_name</th>\n        <th>maximum_debt</th>\n    </tr>\n    <tr>\n        <td>China</td>\n        <td>96218.62</td>\n    </tr>\n    <tr>\n        <td>Brazil</td>\n        <td>90041.84</td>\n    </tr>\n    <tr>\n        <td>Russian Federation</td>\n        <td>66589.76</td>\n    </tr>\n    <tr>\n        <td>Turkey</td>\n        <td>51555.03</td>\n    </tr>\n    <tr>\n        <td>South Asia</td>\n        <td>48756.30</td>\n    </tr>\n    <tr>\n        <td>Least developed countries: UN classification</td>\n        <td>40160.77</td>\n    </tr>\n    <tr>\n        <td>IDA only</td>\n        <td>34531.19</td>\n    </tr>\n    <tr>\n        <td>India</td>\n        <td>31923.51</td>\n    </tr>\n    <tr>\n        <td>Indonesia</td>\n        <td>30916.11</td>\n    </tr>\n    <tr>\n        <td>Kazakhstan</td>\n        <td>27482.09</td>\n    </tr>\n</table>"
          },
          "metadata": {}
        }
      ]
    },
    {
      "cell_type": "markdown",
      "source": [
        "## **Summary**\n",
        "<p>In this notebook, we took a look at debt owed by countries across the globe. We extracted a few summary statistics from the data and unraveled some interesting facts and figures. We also validated our findings to make sure the investigations are correct.</p>"
      ],
      "metadata": {
        "id": "G6_m-aPX2mE0"
      }
    }
  ],
  "metadata": {
    "kernelspec": {
      "name": "python3",
      "display_name": "Python 3",
      "language": "python"
    },
    "language_info": {
      "name": "python",
      "version": "3.6.7",
      "mimetype": "text/x-python",
      "codemirror_mode": {
        "name": "ipython",
        "version": 3
      },
      "pygments_lexer": "ipython3",
      "nbconvert_exporter": "python",
      "file_extension": ".py"
    },
    "colab": {
      "provenance": []
    }
  },
  "nbformat": 4,
  "nbformat_minor": 0
}